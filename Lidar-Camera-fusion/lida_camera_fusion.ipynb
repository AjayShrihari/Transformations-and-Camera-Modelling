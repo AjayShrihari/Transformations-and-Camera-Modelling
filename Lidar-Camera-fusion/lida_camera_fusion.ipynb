{
  "nbformat": 4,
  "nbformat_minor": 0,
  "metadata": {
    "colab": {
      "name": "MRassignment1Q1.ipynb",
      "version": "0.3.2",
      "provenance": [],
      "collapsed_sections": [],
      "toc_visible": true
    },
    "kernelspec": {
      "name": "python3",
      "display_name": "Python 3"
    }
  },
  "cells": [
    {
      "cell_type": "code",
      "metadata": {
        "id": "OjJN61f53xjw",
        "colab_type": "code",
        "outputId": "3e5924a6-5703-473d-c42e-f1c8f9260d86",
        "colab": {
          "base_uri": "https://localhost:8080/",
          "height": 34
        }
      },
      "source": [
        "import numpy as np\n",
        "\n",
        "def load_velodyne_points(points_path):\n",
        "    points = np.fromfile(points_path, dtype=np.float32).reshape(-1, 4)\n",
        "    points = points[:,:3]                # exclude reflectance values, becomes [X Y Z]\n",
        "    points = points[0::5,:]              # remove every 5th point for display speed (optional)\n",
        "    points = points[(points[:,0] > 5)]   # remove all points behind image plane (approximate)\n",
        "    return points\n",
        "    \n",
        "if __name__ == '__main__':\n",
        "    points = load_velodyne_points('lidar-points.bin')\n",
        "    print (points.shape)"
      ],
      "execution_count": 0,
      "outputs": [
        {
          "output_type": "stream",
          "text": [
            "(6951, 3)\n"
          ],
          "name": "stdout"
        }
      ]
    },
    {
      "cell_type": "code",
      "metadata": {
        "id": "myuCysNI5U-Q",
        "colab_type": "code",
        "outputId": "ed4166f6-d4c1-47e7-9710-e8b116fe9489",
        "colab": {
          "base_uri": "https://localhost:8080/",
          "height": 34
        }
      },
      "source": [
        "import cv2\n",
        "import matplotlib.pyplot as plt\n",
        "im=cv2.imread('image.png')\n",
        "print(im.shape)"
      ],
      "execution_count": 0,
      "outputs": [
        {
          "output_type": "stream",
          "text": [
            "(375, 1242, 3)\n"
          ],
          "name": "stdout"
        }
      ]
    },
    {
      "cell_type": "code",
      "metadata": {
        "id": "KGHurTCP5uuI",
        "colab_type": "code",
        "colab": {}
      },
      "source": [
        "points=load_velodyne_points('lidar-points.bin')\n",
        "im=cv2.imread('image.png')\n",
        "R=np.array([[0,-1,0],[0,0,-1],[1,0,0]])      #rotation matrix\n",
        "t=np.array([[.06],[-.08],[-.27]])            # translation matrix\n",
        "h=np.hstack((R,t))                           # stacked [R | t] 3*4 matrix\n",
        "points=np.hstack((points,np.ones((6951,1))))       #converting points to homogenous format\n",
        "K=np.array([[7.215377e+02, 0.000000e+00, 6.095593e+02],\n",
        "   [0.000000e+00, 7.215377e+02, 1.728540e+02],\n",
        "   [0.000000e+00, 0.000000e+00, 1.000000e+00]])"
      ],
      "execution_count": 0,
      "outputs": []
    },
    {
      "cell_type": "code",
      "metadata": {
        "id": "3RF-ucDxBYLI",
        "colab_type": "code",
        "outputId": "68495949-736b-4189-f7bf-04bc6f658d38",
        "colab": {
          "base_uri": "https://localhost:8080/",
          "height": 68
        }
      },
      "source": [
        "imPoints=h.dot(points.T)        # transforming points from world frame to camera frame\n",
        "imPoints=K.dot(imPoints)        # projecting points to image plane\n",
        "imPoints=imPoints/imPoints[2,:] \n",
        "plt.imshow(im)\n",
        "plt.scatter(imPoints[0,:],imPoints[1,:],c=1/points[:,0],s=7)\n",
        "plt.show()"
      ],
      "execution_count": 0,
      "outputs": [
        {
          "output_type": "display_data",
          "data": {
            "image/png": "[encoded data removed]",
            "text/plain": [
              "<Figure size 432x288 with 1 Axes>"
            ]
          },
          "metadata": {
            "tags": []
          }
        }
      ]
    },
    {
      "cell_type": "markdown",
      "metadata": {
        "id": "vi6sABOXq6nG",
        "colab_type": "text"
      },
      "source": [
        "# Description:\n",
        "\n",
        "First we found $R_{3*3}$ and $t_{3*1}$ matrix from the given data and concatinated them to form $[R | t]_{3*4}$ matrix.\n",
        "\n",
        "Then, we converted given points to homogenous co-ordinates. \n",
        "\n",
        "We, then transformed the given points from world frame $W$ to camera frame $C$ by multiplying with $[R | t]$ and then projected to image plane by multiplying $K$.\n",
        "\n",
        "$x_{image-coordinates}$ = $K[R|t]X_{world-coordinates}$\n",
        "\n",
        "\n"
      ]
    }
  ]
}